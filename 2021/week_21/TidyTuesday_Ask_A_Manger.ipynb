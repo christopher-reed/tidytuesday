{
  "nbformat": 4,
  "nbformat_minor": 0,
  "metadata": {
    "colab": {
      "name": "TidyTuesday: Ask A Manger",
      "provenance": [],
      "mount_file_id": "1ZJqWirV4yrE4x4YgKiIG4cGzcJz8MQ0Z",
      "authorship_tag": "ABX9TyNO9VP9Zam7GNermFe7FhBH",
      "include_colab_link": true
    },
    "kernelspec": {
      "name": "python3",
      "display_name": "Python 3"
    },
    "language_info": {
      "name": "python"
    }
  },
  "cells": [
    {
      "cell_type": "markdown",
      "metadata": {
        "id": "view-in-github",
        "colab_type": "text"
      },
      "source": [
        "<a href=\"https://colab.research.google.com/github/christopher-reed/tidytuesday/blob/master/2021/week_21/TidyTuesday_Ask_A_Manger.ipynb\" target=\"_parent\"><img src=\"https://colab.research.google.com/assets/colab-badge.svg\" alt=\"Open In Colab\"/></a>"
      ]
    },
    {
      "cell_type": "markdown",
      "metadata": {
        "id": "unj_N76EIEqA"
      },
      "source": [
        "# Packages and Data"
      ]
    },
    {
      "cell_type": "code",
      "metadata": {
        "id": "aj7Jnyek7-a6"
      },
      "source": [
        "import pandas as pd\n",
        "import numpy as np\n",
        "import matplotlib\n",
        "import matplotlib.pyplot as plt\n",
        "import seaborn as sns\n",
        "import datetime"
      ],
      "execution_count": 51,
      "outputs": []
    },
    {
      "cell_type": "code",
      "metadata": {
        "colab": {
          "base_uri": "https://localhost:8080/",
          "height": 400
        },
        "id": "ISKPIWS58PsN",
        "outputId": "a0f37efd-b133-420a-84ce-ba93b55d8b51"
      },
      "source": [
        "df = pd.read_csv('https://raw.githubusercontent.com/rfordatascience/tidytuesday/master/data/2021/2021-05-18/survey.csv')\n",
        "\n",
        "df.head()"
      ],
      "execution_count": 2,
      "outputs": [
        {
          "output_type": "execute_result",
          "data": {
            "text/html": [
              "<div>\n",
              "<style scoped>\n",
              "    .dataframe tbody tr th:only-of-type {\n",
              "        vertical-align: middle;\n",
              "    }\n",
              "\n",
              "    .dataframe tbody tr th {\n",
              "        vertical-align: top;\n",
              "    }\n",
              "\n",
              "    .dataframe thead th {\n",
              "        text-align: right;\n",
              "    }\n",
              "</style>\n",
              "<table border=\"1\" class=\"dataframe\">\n",
              "  <thead>\n",
              "    <tr style=\"text-align: right;\">\n",
              "      <th></th>\n",
              "      <th>timestamp</th>\n",
              "      <th>how_old_are_you</th>\n",
              "      <th>industry</th>\n",
              "      <th>job_title</th>\n",
              "      <th>additional_context_on_job_title</th>\n",
              "      <th>annual_salary</th>\n",
              "      <th>other_monetary_comp</th>\n",
              "      <th>currency</th>\n",
              "      <th>currency_other</th>\n",
              "      <th>additional_context_on_income</th>\n",
              "      <th>country</th>\n",
              "      <th>state</th>\n",
              "      <th>city</th>\n",
              "      <th>overall_years_of_professional_experience</th>\n",
              "      <th>years_of_experience_in_field</th>\n",
              "      <th>highest_level_of_education_completed</th>\n",
              "      <th>gender</th>\n",
              "      <th>race</th>\n",
              "    </tr>\n",
              "  </thead>\n",
              "  <tbody>\n",
              "    <tr>\n",
              "      <th>0</th>\n",
              "      <td>4/27/2021 11:02:10</td>\n",
              "      <td>25-34</td>\n",
              "      <td>Education (Higher Education)</td>\n",
              "      <td>Research and Instruction Librarian</td>\n",
              "      <td>NaN</td>\n",
              "      <td>55000</td>\n",
              "      <td>0.0</td>\n",
              "      <td>USD</td>\n",
              "      <td>NaN</td>\n",
              "      <td>NaN</td>\n",
              "      <td>United States</td>\n",
              "      <td>Massachusetts</td>\n",
              "      <td>Boston</td>\n",
              "      <td>5-7 years</td>\n",
              "      <td>5-7 years</td>\n",
              "      <td>Master's degree</td>\n",
              "      <td>Woman</td>\n",
              "      <td>White</td>\n",
              "    </tr>\n",
              "    <tr>\n",
              "      <th>1</th>\n",
              "      <td>4/27/2021 11:02:22</td>\n",
              "      <td>25-34</td>\n",
              "      <td>Computing or Tech</td>\n",
              "      <td>Change &amp; Internal Communications Manager</td>\n",
              "      <td>NaN</td>\n",
              "      <td>54600</td>\n",
              "      <td>4000.0</td>\n",
              "      <td>GBP</td>\n",
              "      <td>NaN</td>\n",
              "      <td>NaN</td>\n",
              "      <td>United Kingdom</td>\n",
              "      <td>NaN</td>\n",
              "      <td>Cambridge</td>\n",
              "      <td>8 - 10 years</td>\n",
              "      <td>5-7 years</td>\n",
              "      <td>College degree</td>\n",
              "      <td>Non-binary</td>\n",
              "      <td>White</td>\n",
              "    </tr>\n",
              "    <tr>\n",
              "      <th>2</th>\n",
              "      <td>4/27/2021 11:02:38</td>\n",
              "      <td>25-34</td>\n",
              "      <td>Accounting, Banking &amp; Finance</td>\n",
              "      <td>Marketing Specialist</td>\n",
              "      <td>NaN</td>\n",
              "      <td>34000</td>\n",
              "      <td>NaN</td>\n",
              "      <td>USD</td>\n",
              "      <td>NaN</td>\n",
              "      <td>NaN</td>\n",
              "      <td>US</td>\n",
              "      <td>Tennessee</td>\n",
              "      <td>Chattanooga</td>\n",
              "      <td>2 - 4 years</td>\n",
              "      <td>2 - 4 years</td>\n",
              "      <td>College degree</td>\n",
              "      <td>Woman</td>\n",
              "      <td>White</td>\n",
              "    </tr>\n",
              "    <tr>\n",
              "      <th>3</th>\n",
              "      <td>4/27/2021 11:02:41</td>\n",
              "      <td>25-34</td>\n",
              "      <td>Nonprofits</td>\n",
              "      <td>Program Manager</td>\n",
              "      <td>NaN</td>\n",
              "      <td>62000</td>\n",
              "      <td>3000.0</td>\n",
              "      <td>USD</td>\n",
              "      <td>NaN</td>\n",
              "      <td>NaN</td>\n",
              "      <td>USA</td>\n",
              "      <td>Wisconsin</td>\n",
              "      <td>Milwaukee</td>\n",
              "      <td>8 - 10 years</td>\n",
              "      <td>5-7 years</td>\n",
              "      <td>College degree</td>\n",
              "      <td>Woman</td>\n",
              "      <td>White</td>\n",
              "    </tr>\n",
              "    <tr>\n",
              "      <th>4</th>\n",
              "      <td>4/27/2021 11:02:42</td>\n",
              "      <td>25-34</td>\n",
              "      <td>Accounting, Banking &amp; Finance</td>\n",
              "      <td>Accounting Manager</td>\n",
              "      <td>NaN</td>\n",
              "      <td>60000</td>\n",
              "      <td>7000.0</td>\n",
              "      <td>USD</td>\n",
              "      <td>NaN</td>\n",
              "      <td>NaN</td>\n",
              "      <td>US</td>\n",
              "      <td>South Carolina</td>\n",
              "      <td>Greenville</td>\n",
              "      <td>8 - 10 years</td>\n",
              "      <td>5-7 years</td>\n",
              "      <td>College degree</td>\n",
              "      <td>Woman</td>\n",
              "      <td>White</td>\n",
              "    </tr>\n",
              "  </tbody>\n",
              "</table>\n",
              "</div>"
            ],
            "text/plain": [
              "            timestamp how_old_are_you  ...      gender   race\n",
              "0  4/27/2021 11:02:10           25-34  ...       Woman  White\n",
              "1  4/27/2021 11:02:22           25-34  ...  Non-binary  White\n",
              "2  4/27/2021 11:02:38           25-34  ...       Woman  White\n",
              "3  4/27/2021 11:02:41           25-34  ...       Woman  White\n",
              "4  4/27/2021 11:02:42           25-34  ...       Woman  White\n",
              "\n",
              "[5 rows x 18 columns]"
            ]
          },
          "metadata": {
            "tags": []
          },
          "execution_count": 2
        }
      ]
    },
    {
      "cell_type": "markdown",
      "metadata": {
        "id": "t5-cBTghIGP4"
      },
      "source": [
        "# Cleaning"
      ]
    },
    {
      "cell_type": "code",
      "metadata": {
        "colab": {
          "base_uri": "https://localhost:8080/",
          "height": 269
        },
        "id": "KIC5YC7K8UN5",
        "outputId": "58a389e6-f3c3-4b36-e8ea-f6cac9e601a5"
      },
      "source": [
        "# Simple cleaning\n",
        "\n",
        "# Desired order. We will reindex using this list.\n",
        "reorder = ['under 18', '18-24', '25-34', '35-44', '45-54', '55-64', '65 or over']\n",
        "\n",
        "# Find total number of respondents in each age group\n",
        "df_clean = (df.\n",
        " groupby('how_old_are_you').\n",
        " count().\n",
        " reindex(reorder).\n",
        " reset_index()[['how_old_are_you', 'timestamp']].\n",
        " rename(columns = {'timestamp':'num_responses'}))\n",
        "\n",
        "df_clean['colors'] = np.where(df_clean['num_responses'] == df_clean['num_responses'].max(), '#69A2B0', 'grey')\n",
        "\n",
        "# Inspect\n",
        "df_clean"
      ],
      "execution_count": 65,
      "outputs": [
        {
          "output_type": "execute_result",
          "data": {
            "text/html": [
              "<div>\n",
              "<style scoped>\n",
              "    .dataframe tbody tr th:only-of-type {\n",
              "        vertical-align: middle;\n",
              "    }\n",
              "\n",
              "    .dataframe tbody tr th {\n",
              "        vertical-align: top;\n",
              "    }\n",
              "\n",
              "    .dataframe thead th {\n",
              "        text-align: right;\n",
              "    }\n",
              "</style>\n",
              "<table border=\"1\" class=\"dataframe\">\n",
              "  <thead>\n",
              "    <tr style=\"text-align: right;\">\n",
              "      <th></th>\n",
              "      <th>how_old_are_you</th>\n",
              "      <th>num_responses</th>\n",
              "      <th>colors</th>\n",
              "    </tr>\n",
              "  </thead>\n",
              "  <tbody>\n",
              "    <tr>\n",
              "      <th>0</th>\n",
              "      <td>under 18</td>\n",
              "      <td>10</td>\n",
              "      <td>grey</td>\n",
              "    </tr>\n",
              "    <tr>\n",
              "      <th>1</th>\n",
              "      <td>18-24</td>\n",
              "      <td>1015</td>\n",
              "      <td>grey</td>\n",
              "    </tr>\n",
              "    <tr>\n",
              "      <th>2</th>\n",
              "      <td>25-34</td>\n",
              "      <td>11748</td>\n",
              "      <td>#69A2B0</td>\n",
              "    </tr>\n",
              "    <tr>\n",
              "      <th>3</th>\n",
              "      <td>35-44</td>\n",
              "      <td>9398</td>\n",
              "      <td>grey</td>\n",
              "    </tr>\n",
              "    <tr>\n",
              "      <th>4</th>\n",
              "      <td>45-54</td>\n",
              "      <td>3042</td>\n",
              "      <td>grey</td>\n",
              "    </tr>\n",
              "    <tr>\n",
              "      <th>5</th>\n",
              "      <td>55-64</td>\n",
              "      <td>931</td>\n",
              "      <td>grey</td>\n",
              "    </tr>\n",
              "    <tr>\n",
              "      <th>6</th>\n",
              "      <td>65 or over</td>\n",
              "      <td>88</td>\n",
              "      <td>grey</td>\n",
              "    </tr>\n",
              "  </tbody>\n",
              "</table>\n",
              "</div>"
            ],
            "text/plain": [
              "  how_old_are_you  num_responses   colors\n",
              "0        under 18             10     grey\n",
              "1           18-24           1015     grey\n",
              "2           25-34          11748  #69A2B0\n",
              "3           35-44           9398     grey\n",
              "4           45-54           3042     grey\n",
              "5           55-64            931     grey\n",
              "6      65 or over             88     grey"
            ]
          },
          "metadata": {
            "tags": []
          },
          "execution_count": 65
        }
      ]
    },
    {
      "cell_type": "markdown",
      "metadata": {
        "id": "DmWmPN_nIPkU"
      },
      "source": [
        "# Plotting"
      ]
    },
    {
      "cell_type": "code",
      "metadata": {
        "colab": {
          "base_uri": "https://localhost:8080/",
          "height": 647
        },
        "id": "UhmBXN5X8Uvg",
        "outputId": "f8c93a41-1f58-44cb-ecda-8eaf358cd197"
      },
      "source": [
        "# Make palette (dictionary) using two columns\n",
        "palette = dict(zip(df_clean['how_old_are_you'], df_clean['colors']))\n",
        "\n",
        "\n",
        "# Create fig and ax\n",
        "fig, ax = plt.subplots(figsize = (15, 9))\n",
        "\n",
        "###############\n",
        "## MAIN PLOT ##\n",
        "###############\n",
        "\n",
        "sns.barplot(x = 'how_old_are_you',\n",
        "            y = 'num_responses',\n",
        "            palette = palette,\n",
        "            data = df_clean)\n",
        "\n",
        "#######################\n",
        "## TITLES AND LABELS ##\n",
        "#######################\n",
        "ax.text(x = 0, y = 1.105,\n",
        "        s = 'Ask a Manager Survey',\n",
        "        fontsize = 24,\n",
        "        color = 'grey',\n",
        "        transform = ax.transAxes)\n",
        "\n",
        "ax.text(x = 0, y = 1.05,\n",
        "        s = 'Most respondents were between 25 and 34 years old',\n",
        "        fontsize = 20,\n",
        "        color = 'grey',\n",
        "        transform = ax.transAxes)\n",
        "\n",
        "ax.set_xlabel('Age Group',\n",
        "              fontsize = 17,\n",
        "              labelpad = 15,\n",
        "              color = 'grey')\n",
        "ax.set_ylabel('Number of Responses',\n",
        "              fontsize = 17,\n",
        "              labelpad = 15,\n",
        "              color = 'grey')\n",
        "\n",
        "#############\n",
        "## CREDITS ##\n",
        "#############\n",
        "\n",
        "ax.text(x = 0, y = -0.2,\n",
        "        s = 'Visualization: Christopher Reed | Inspiration: @JackiePsych | Data: Ask a Manager',\n",
        "        color = 'grey',\n",
        "        fontsize = 12,\n",
        "        transform = ax.transAxes,)\n",
        "\n",
        "####################\n",
        "## TICKS AND AXES ##\n",
        "####################\n",
        "\n",
        "# X tick labels\n",
        "labels = ['Under 18', '18 to 24', '25 to 34', '35 to 44', '45 to 54', '55 to 64', '65 or Over']\n",
        "ax.set_xticklabels(labels)\n",
        "\n",
        " # Tick params\n",
        "ax.tick_params(labelsize = 15, colors = 'grey')\n",
        "ax.tick_params(axis = 'y', length = 0)\n",
        "\n",
        "# Format y-axis as percent\n",
        "ax.get_yaxis().set_major_formatter(matplotlib.ticker.FuncFormatter(lambda x, p: format(int(x), ',')))\n",
        "\n",
        "# Despine \n",
        "ax = sns.despine(left = True)\n",
        "\n",
        "# Tight\n",
        "plt.tight_layout()\n",
        "\n",
        "############\n",
        "## SAVING ##\n",
        "############\n",
        "\n",
        "# filename = datetime.datetime.now().strftime(\"%Y%m%d-%H%M%S\")\n",
        "# plt.savefig('/content/drive/MyDrive/TidyTuesday/Ask a Manager/Images/' + filename, bbox_inches = 'tight')\n",
        "plt.savefig('Ask a Manager Low Res', facecolor = 'black', bbox_inches = 'tight')"
      ],
      "execution_count": 82,
      "outputs": [
        {
          "output_type": "display_data",
          "data": {
            "image/png": "[encoded data removed]",
            "text/plain": [
              "<Figure size 1080x648 with 1 Axes>"
            ]
          },
          "metadata": {
            "tags": [],
            "needs_background": "dark"
          }
        }
      ]
    },
    {
      "cell_type": "markdown",
      "metadata": {
        "id": "7MkmOGxZIviK"
      },
      "source": [
        "# Making of GIF"
      ]
    },
    {
      "cell_type": "code",
      "metadata": {
        "id": "EiaLe0Pv9xkK"
      },
      "source": [
        "import imageio\n",
        "import os\n",
        "images = []\n",
        "for filename in os.listdir('/content/drive/MyDrive/TidyTuesday/Ask a Manager/Images'):\n",
        "    images.append(imageio.imread('/content/drive/MyDrive/TidyTuesday/Ask a Manager/Images/' + filename))\n",
        "\n",
        "imageio.mimsave('Ask a Manager: Making Of.gif', images, duration = 0.5)"
      ],
      "execution_count": 83,
      "outputs": []
    }
  ]
}