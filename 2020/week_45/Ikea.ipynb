{
  "nbformat": 4,
  "nbformat_minor": 0,
  "metadata": {
    "colab": {
      "name": "TidyTuesday: Ikea",
      "provenance": [],
      "authorship_tag": "ABX9TyOiqV8NGUUVVfeGeaIqwwya",
      "include_colab_link": true
    },
    "kernelspec": {
      "name": "python3",
      "display_name": "Python 3"
    }
  },
  "cells": [
    {
      "cell_type": "markdown",
      "metadata": {
        "id": "view-in-github",
        "colab_type": "text"
      },
      "source": [
        "<a href=\"https://colab.research.google.com/github/christopher-reed/tidytuesday/blob/master/2020/week_45/Ikea.ipynb\" target=\"_parent\"><img src=\"https://colab.research.google.com/assets/colab-badge.svg\" alt=\"Open In Colab\"/></a>"
      ]
    },
    {
      "cell_type": "markdown",
      "metadata": {
        "id": "G80jCoDw4wQE"
      },
      "source": [
        "# Read in packages and data"
      ]
    },
    {
      "cell_type": "markdown",
      "metadata": {
        "id": "WExqEcoa417O"
      },
      "source": [
        "**Packages**"
      ]
    },
    {
      "cell_type": "code",
      "metadata": {
        "id": "iwniCL8T3WX-"
      },
      "source": [
        "import pandas as pd\n",
        "import matplotlib\n",
        "import matplotlib.pyplot as plt\n",
        "from matplotlib import rc\n",
        "import seaborn as sns\n",
        "import numpy as np"
      ],
      "execution_count": 1,
      "outputs": []
    },
    {
      "cell_type": "markdown",
      "metadata": {
        "id": "8MAvVcXx47QV"
      },
      "source": [
        "**Data**"
      ]
    },
    {
      "cell_type": "code",
      "metadata": {
        "id": "f5fDA8BC46vW",
        "outputId": "9f7f7b20-a743-487e-e4cb-1a099e2f72b2",
        "colab": {
          "base_uri": "https://localhost:8080/",
          "height": 206
        }
      },
      "source": [
        "# Url -> df\n",
        "df = pd.read_csv('https://raw.githubusercontent.com/rfordatascience/tidytuesday/master/data/2020/2020-11-03/ikea.csv')\n",
        "\n",
        "# Inspect\n",
        "df.head()"
      ],
      "execution_count": 2,
      "outputs": [
        {
          "output_type": "execute_result",
          "data": {
            "text/html": [
              "<div>\n",
              "<style scoped>\n",
              "    .dataframe tbody tr th:only-of-type {\n",
              "        vertical-align: middle;\n",
              "    }\n",
              "\n",
              "    .dataframe tbody tr th {\n",
              "        vertical-align: top;\n",
              "    }\n",
              "\n",
              "    .dataframe thead th {\n",
              "        text-align: right;\n",
              "    }\n",
              "</style>\n",
              "<table border=\"1\" class=\"dataframe\">\n",
              "  <thead>\n",
              "    <tr style=\"text-align: right;\">\n",
              "      <th></th>\n",
              "      <th>Unnamed: 0</th>\n",
              "      <th>item_id</th>\n",
              "      <th>name</th>\n",
              "      <th>category</th>\n",
              "      <th>price</th>\n",
              "      <th>old_price</th>\n",
              "      <th>sellable_online</th>\n",
              "      <th>link</th>\n",
              "      <th>other_colors</th>\n",
              "      <th>short_description</th>\n",
              "      <th>designer</th>\n",
              "      <th>depth</th>\n",
              "      <th>height</th>\n",
              "      <th>width</th>\n",
              "    </tr>\n",
              "  </thead>\n",
              "  <tbody>\n",
              "    <tr>\n",
              "      <th>0</th>\n",
              "      <td>0</td>\n",
              "      <td>90420332</td>\n",
              "      <td>FREKVENS</td>\n",
              "      <td>Bar furniture</td>\n",
              "      <td>265.0</td>\n",
              "      <td>No old price</td>\n",
              "      <td>True</td>\n",
              "      <td>https://www.ikea.com/sa/en/p/frekvens-bar-tabl...</td>\n",
              "      <td>No</td>\n",
              "      <td>Bar table, in/outdoor,          51x51 cm</td>\n",
              "      <td>Nicholai Wiig Hansen</td>\n",
              "      <td>NaN</td>\n",
              "      <td>99.0</td>\n",
              "      <td>51.0</td>\n",
              "    </tr>\n",
              "    <tr>\n",
              "      <th>1</th>\n",
              "      <td>1</td>\n",
              "      <td>368814</td>\n",
              "      <td>NORDVIKEN</td>\n",
              "      <td>Bar furniture</td>\n",
              "      <td>995.0</td>\n",
              "      <td>No old price</td>\n",
              "      <td>False</td>\n",
              "      <td>https://www.ikea.com/sa/en/p/nordviken-bar-tab...</td>\n",
              "      <td>No</td>\n",
              "      <td>Bar table,          140x80 cm</td>\n",
              "      <td>Francis Cayouette</td>\n",
              "      <td>NaN</td>\n",
              "      <td>105.0</td>\n",
              "      <td>80.0</td>\n",
              "    </tr>\n",
              "    <tr>\n",
              "      <th>2</th>\n",
              "      <td>2</td>\n",
              "      <td>9333523</td>\n",
              "      <td>NORDVIKEN / NORDVIKEN</td>\n",
              "      <td>Bar furniture</td>\n",
              "      <td>2095.0</td>\n",
              "      <td>No old price</td>\n",
              "      <td>False</td>\n",
              "      <td>https://www.ikea.com/sa/en/p/nordviken-nordvik...</td>\n",
              "      <td>No</td>\n",
              "      <td>Bar table and 4 bar stools</td>\n",
              "      <td>Francis Cayouette</td>\n",
              "      <td>NaN</td>\n",
              "      <td>NaN</td>\n",
              "      <td>NaN</td>\n",
              "    </tr>\n",
              "    <tr>\n",
              "      <th>3</th>\n",
              "      <td>3</td>\n",
              "      <td>80155205</td>\n",
              "      <td>STIG</td>\n",
              "      <td>Bar furniture</td>\n",
              "      <td>69.0</td>\n",
              "      <td>No old price</td>\n",
              "      <td>True</td>\n",
              "      <td>https://www.ikea.com/sa/en/p/stig-bar-stool-wi...</td>\n",
              "      <td>Yes</td>\n",
              "      <td>Bar stool with backrest,          74 cm</td>\n",
              "      <td>Henrik Preutz</td>\n",
              "      <td>50.0</td>\n",
              "      <td>100.0</td>\n",
              "      <td>60.0</td>\n",
              "    </tr>\n",
              "    <tr>\n",
              "      <th>4</th>\n",
              "      <td>4</td>\n",
              "      <td>30180504</td>\n",
              "      <td>NORBERG</td>\n",
              "      <td>Bar furniture</td>\n",
              "      <td>225.0</td>\n",
              "      <td>No old price</td>\n",
              "      <td>True</td>\n",
              "      <td>https://www.ikea.com/sa/en/p/norberg-wall-moun...</td>\n",
              "      <td>No</td>\n",
              "      <td>Wall-mounted drop-leaf table,         ...</td>\n",
              "      <td>Marcus Arvonen</td>\n",
              "      <td>60.0</td>\n",
              "      <td>43.0</td>\n",
              "      <td>74.0</td>\n",
              "    </tr>\n",
              "  </tbody>\n",
              "</table>\n",
              "</div>"
            ],
            "text/plain": [
              "   Unnamed: 0   item_id                   name  ... depth  height width\n",
              "0           0  90420332               FREKVENS  ...   NaN    99.0  51.0\n",
              "1           1    368814              NORDVIKEN  ...   NaN   105.0  80.0\n",
              "2           2   9333523  NORDVIKEN / NORDVIKEN  ...   NaN     NaN   NaN\n",
              "3           3  80155205                   STIG  ...  50.0   100.0  60.0\n",
              "4           4  30180504                NORBERG  ...  60.0    43.0  74.0\n",
              "\n",
              "[5 rows x 14 columns]"
            ]
          },
          "metadata": {
            "tags": []
          },
          "execution_count": 2
        }
      ]
    },
    {
      "cell_type": "markdown",
      "metadata": {
        "id": "oBnnrXy_W0tN"
      },
      "source": [
        "# Wrangle"
      ]
    },
    {
      "cell_type": "markdown",
      "metadata": {
        "id": "d3eBx5prWwIm"
      },
      "source": [
        "**Find the min, max, and median price in each category. You could do this all in one groupby, but then you have to handle the multindex queries :shrug:**"
      ]
    },
    {
      "cell_type": "code",
      "metadata": {
        "id": "rOOm5Rj2TE-Z",
        "outputId": "d313d113-9835-46f7-bf6b-a63183a92118",
        "colab": {
          "base_uri": "https://localhost:8080/",
          "height": 238
        }
      },
      "source": [
        "# Find min, max, median price by category\n",
        "min_cat = df.groupby('category').min()['price']\n",
        "max_cat = df.groupby('category').max()['price']\n",
        "median_cat = df.groupby('category').median()['price']\n",
        "\n",
        "# Concat all series together\n",
        "df_price = pd.concat([min_cat, max_cat, median_cat], axis = 1)\n",
        "\n",
        "# Rename columns\n",
        "df_price.columns = ['min', 'max', 'median']\n",
        "\n",
        "# Sort by max\n",
        "df_price = df_price.sort_values(by = 'max', ascending = True)\n",
        "\n",
        "# Peep\n",
        "df_price.head()                                                                    "
      ],
      "execution_count": 3,
      "outputs": [
        {
          "output_type": "execute_result",
          "data": {
            "text/html": [
              "<div>\n",
              "<style scoped>\n",
              "    .dataframe tbody tr th:only-of-type {\n",
              "        vertical-align: middle;\n",
              "    }\n",
              "\n",
              "    .dataframe tbody tr th {\n",
              "        vertical-align: top;\n",
              "    }\n",
              "\n",
              "    .dataframe thead th {\n",
              "        text-align: right;\n",
              "    }\n",
              "</style>\n",
              "<table border=\"1\" class=\"dataframe\">\n",
              "  <thead>\n",
              "    <tr style=\"text-align: right;\">\n",
              "      <th></th>\n",
              "      <th>min</th>\n",
              "      <th>max</th>\n",
              "      <th>median</th>\n",
              "    </tr>\n",
              "    <tr>\n",
              "      <th>category</th>\n",
              "      <th></th>\n",
              "      <th></th>\n",
              "      <th></th>\n",
              "    </tr>\n",
              "  </thead>\n",
              "  <tbody>\n",
              "    <tr>\n",
              "      <th>Café furniture</th>\n",
              "      <td>145.0</td>\n",
              "      <td>1385.0</td>\n",
              "      <td>424.5</td>\n",
              "    </tr>\n",
              "    <tr>\n",
              "      <th>Nursery furniture</th>\n",
              "      <td>5.0</td>\n",
              "      <td>1545.0</td>\n",
              "      <td>350.0</td>\n",
              "    </tr>\n",
              "    <tr>\n",
              "      <th>Children's furniture</th>\n",
              "      <td>5.0</td>\n",
              "      <td>1545.0</td>\n",
              "      <td>202.5</td>\n",
              "    </tr>\n",
              "    <tr>\n",
              "      <th>Chests of drawers &amp; drawer units</th>\n",
              "      <td>49.0</td>\n",
              "      <td>1880.0</td>\n",
              "      <td>460.0</td>\n",
              "    </tr>\n",
              "    <tr>\n",
              "      <th>Sideboards, buffets &amp; console tables</th>\n",
              "      <td>295.0</td>\n",
              "      <td>2100.0</td>\n",
              "      <td>965.0</td>\n",
              "    </tr>\n",
              "  </tbody>\n",
              "</table>\n",
              "</div>"
            ],
            "text/plain": [
              "                                        min     max  median\n",
              "category                                                   \n",
              "Café furniture                        145.0  1385.0   424.5\n",
              "Nursery furniture                       5.0  1545.0   350.0\n",
              "Children's furniture                    5.0  1545.0   202.5\n",
              "Chests of drawers & drawer units       49.0  1880.0   460.0\n",
              "Sideboards, buffets & console tables  295.0  2100.0   965.0"
            ]
          },
          "metadata": {
            "tags": []
          },
          "execution_count": 3
        }
      ]
    },
    {
      "cell_type": "markdown",
      "metadata": {
        "id": "0uokLc7tTfHB"
      },
      "source": [
        "**Collect components for plot**"
      ]
    },
    {
      "cell_type": "code",
      "metadata": {
        "id": "KSJFn7RATdYL"
      },
      "source": [
        "########\n",
        "##DATA##\n",
        "########\n",
        "\n",
        "# Y positions\n",
        "y_pos = np.arange(0, df_price.shape[0])\n",
        "\n",
        "# Left coordinate\n",
        "left_coord = df_price['min'].to_list()\n",
        "\n",
        "# Right coordinate for max cap\n",
        "right_coord = df_price['max'].to_list()\n",
        "\n",
        "# Need to subtract left coord from right coord for bar plot to get correct length since not starting at zero\n",
        "bar_right_coord = [a_i - b_i for a_i, b_i in zip(right_coord, left_coord)]\n",
        "\n",
        "# Median point\n",
        "median_point = df_price['median'].to_list()"
      ],
      "execution_count": 124,
      "outputs": []
    },
    {
      "cell_type": "markdown",
      "metadata": {
        "id": "awFm_WzhW5_P"
      },
      "source": [
        "# Plot"
      ]
    },
    {
      "cell_type": "code",
      "metadata": {
        "id": "hThxqPXDXY1A",
        "outputId": "7eccc6a8-ba47-434c-b175-56f725019cdf",
        "colab": {
          "base_uri": "https://localhost:8080/",
          "height": 643
        }
      },
      "source": [
        "# Create fig and ax\n",
        "fig, ax = plt.subplots(figsize = (10, 10))\n",
        "\n",
        "###################\n",
        "##CAPPED BAR PLOT##\n",
        "###################\n",
        "\n",
        "# Min cap\n",
        "ax.barh(y_pos, width = 100, left = left_coord, height = 0.65, color = '#003399', zorder = 100)\n",
        "\n",
        "# Middle component of bar plot\n",
        "ax.barh(y_pos, width = bar_right_coord, left = left_coord, height = 0.65, color = '#003399', alpha = 0.3, zorder = 90)\n",
        "\n",
        "# Max cap\n",
        "ax.barh(y_pos, width = -100, left = right_coord, height = 0.65, color = '#003399', zorder = 100)\n",
        "\n",
        "################\n",
        "##MEDIAN POINT##\n",
        "################\n",
        "\n",
        "# Median points\n",
        "ax.scatter(median_point, y_pos, zorder = 100, color = 'grey')\n",
        "\n",
        "##############\n",
        "##GRID LINES##\n",
        "##############\n",
        "\n",
        "ax.grid(b = True, which = 'major', axis = 'both')\n",
        "\n",
        "# Need this or else major gridlines don't line up with figure spines\n",
        "ax.set_xlim(left = 0, right = 10000)\n",
        "ax.set_ylim(bottom = -0.5, top = 16.5)\n",
        "\n",
        "##########\n",
        "##SPINES##\n",
        "##########\n",
        "\n",
        "# Make all spines grey\n",
        "for side in ['top', 'right', 'bottom', 'left']:\n",
        "  ax.spines[side].set_color('grey')\n",
        "\n",
        "# Make top spine thicker\n",
        "ax.spines['top'].set_linewidth(1.5)\n",
        "\n",
        "# Hide the bottom spine\n",
        "ax.spines['bottom'].set_visible(False)\n",
        "\n",
        "#########################\n",
        "##TICKS AND TICK LABELS##\n",
        "#########################\n",
        "\n",
        "# Set y ticks and labels\n",
        "ax.set_yticks(y_pos)\n",
        "ax.set_yticklabels(df_price.index.to_list())\n",
        "\n",
        "# Put x ticks on the top spine\n",
        "ax.xaxis.tick_top()\n",
        "ax.set_xticks(np.arange(0, 12500, 2500))\n",
        "ax.set_xlabel('Price in Saudi Riyals', fontsize = 16, labelpad = 10, color = 'grey')\n",
        "ax.xaxis.set_label_position('top')\n",
        "\n",
        "# Y axis specific\n",
        "ax.tick_params(axis = 'y', length = 0, labelsize = 14, labelcolor = 'black', pad = 15)\n",
        "\n",
        "# X axis specific\n",
        "ax.tick_params(axis = 'x', width = 1.5, labelsize = 14, color = 'grey', labelcolor = 'grey', length = 10, top = True)\n",
        "\n",
        "# Commas for x axis tick labels\n",
        "ax.set_xticklabels(['{:,}'.format(int(x)) for x in ax.get_xticks().tolist()])\n",
        "\n",
        "#################################\n",
        "##TITLES, LABELS,  AND CAPTIONS##\n",
        "#################################\n",
        "\n",
        "# IKEA with shadow\n",
        "ax.text(0.5, 0.3, 'IKEA', fontsize = 100, weight = 'bold', transform = ax.transAxes, color = '#003399', zorder = 100)\n",
        "ax.text(0.51, 0.29, 'IKEA', fontsize = 100, weight = 'bold', transform = ax.transAxes, color = '#ffcc00')\n",
        "\n",
        "# Color sub text\n",
        "ax.text(0.51, 0.24, 'From', fontsize = 20, transform = ax.transAxes, color = 'grey')\n",
        "ax.text(0.62, 0.24, 'lowest', fontsize = 20, transform = ax.transAxes, color = '#003399')\n",
        "ax.text(0.77, 0.24, 'to', fontsize = 20, transform = ax.transAxes, color = 'grey')\n",
        "ax.text(0.84, 0.24, 'highest', fontsize = 20, transform = ax.transAxes, color = '#ffcc00')\n",
        "\n",
        "# Caption\n",
        "cap = 'Data from Kaggle | Inspired by @kustav_sen | Visualized by Christopher Reed'\n",
        "ax.text(0.5, -0.03, cap, color = 'grey', ha = 'center', fontsize = 12, transform = ax.transAxes)\n",
        "\n",
        "#Save\n",
        "plt.savefig('ikea.jpg', bbox_to_inches = 'tight')"
      ],
      "execution_count": 137,
      "outputs": [
        {
          "output_type": "display_data",
          "data": {
            "image/png": "[encoded data removed]",
            "text/plain": [
              "<Figure size 720x720 with 1 Axes>"
            ]
          },
          "metadata": {
            "tags": []
          }
        }
      ]
    }
  ]
}